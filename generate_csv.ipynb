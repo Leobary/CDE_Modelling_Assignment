{
 "cells": [
  {
   "cell_type": "markdown",
   "id": "87bed0af-0e42-491d-9054-65b2056ed994",
   "metadata": {},
   "source": [
    "## Creating sample data for FUFU REPUBLIC using Python Faker Library"
   ]
  },
  {
   "cell_type": "code",
   "execution_count": 2,
   "id": "c77dbc2b-0cdf-49ef-b8b4-96d85864fc25",
   "metadata": {},
   "outputs": [],
   "source": [
    "# import the library\n",
    "from faker import Faker\n",
    "import pandas as pd\n",
    "import random\n",
    "import time\n",
    "from datetime import datetime,timedelta\n",
    "\n",
    "# create a variable instance for faker\n",
    "fake = Faker(locales='en_NG')\n",
    "Faker.seed(50)"
   ]
  },
  {
   "cell_type": "code",
   "execution_count": 3,
   "id": "ef6a36ca-4c32-49dc-8bbd-93a8be639997",
   "metadata": {},
   "outputs": [],
   "source": [
    "# create a function for customers\n",
    "def create_customers(num_of_customers):\n",
    "# create empty list to add customers dictionary\n",
    "    customer_list = []\n",
    "# define the created_at date range\n",
    "    start_date = datetime(2024, 9, 1)\n",
    "    end_date = datetime.now()\n",
    "# define minimun range\n",
    "    min = 101\n",
    "# create customer dictionary\n",
    "    for i in range(min, num_of_customers+min):\n",
    "        customer = {}\n",
    "        customer['id'] = i\n",
    "        customer['first_name'] = fake.first_name()\n",
    "        customer['last_name'] = fake.last_name()\n",
    "        customer['email'] = fake.email()\n",
    "        customer['phone_no'] = fake.phone_number()\n",
    "        customer['address'] = fake.street_address()\n",
    "        customer['city_id'] = fake.random_element(elements = ['101A', '101B', '101C', '101D', '101E', '102A', '102B', '102C', '103A', '103B'])\n",
    "        #customer['state_id'] = fake.random_element(elements = ['101', '102', '103'])\n",
    "        #customer['created_at'] = fake.date_time_between(start_date=start_date, end_date=end_date).strftime('%Y-%m-%d %H:%M:%S')\n",
    "        customer['created_at'] = fake.date_time_between(start_date=start_date, end_date=end_date)\n",
    "        #customer['active'] = fake.boolean()\n",
    "        customer_list.append(customer)\n",
    "    return pd.DataFrame(customer_list)\n",
    "\n",
    "customer_data = create_customers(50)\n",
    "customer_data.to_csv('./csv_files/customers.csv', index=False)"
   ]
  },
  {
   "cell_type": "code",
   "execution_count": null,
   "id": "3d976f4f-2778-40cc-9bbd-042d220f0253",
   "metadata": {},
   "outputs": [],
   "source": []
  },
  {
   "cell_type": "code",
   "execution_count": 4,
   "id": "f081a34c-d004-4d80-aa26-eabefb2f9c7e",
   "metadata": {},
   "outputs": [],
   "source": [
    "# create a function for staff\n",
    "def create_staff(num_of_staff):\n",
    "# create empty list to add staff dictionary\n",
    "    staff_list = []\n",
    "# define minimun range\n",
    "    min = 101\n",
    "# create staff dictionary\n",
    "    for i in range(min, num_of_staff+min):\n",
    "        staff = {}\n",
    "        staff['id'] = 'FU' + str(i)\n",
    "        staff['first_name'] = fake.first_name()\n",
    "        staff['last_name'] = fake.last_name()\n",
    "        staff['gender'] = random.choice(['male', 'female'])\n",
    "        staff['branch_id'] = fake.random_element(elements = ['1001', '1002', '1003', '1004', '1005', '1006'])\n",
    "        staff_list.append(staff)\n",
    "    return pd.DataFrame(staff_list)\n",
    "    \n",
    "staff_data = create_staff(30)\n",
    "staff_data.to_csv('./csv_files/staff.csv', index=False)"
   ]
  },
  {
   "cell_type": "code",
   "execution_count": null,
   "id": "63b195bb-c69d-4bde-8fdc-bf2b35005a68",
   "metadata": {},
   "outputs": [],
   "source": []
  },
  {
   "cell_type": "code",
   "execution_count": 5,
   "id": "29b51b12-1e9d-4784-b892-c6ea87de6932",
   "metadata": {},
   "outputs": [],
   "source": [
    "# create a function for city\n",
    "def create_city():\n",
    "# create city list\n",
    "    city_list = [{'id': '101A', 'name':'Ikeja', 'state_id':'101'}, \n",
    "                  {'id': '101B', 'name':'Surulere', 'state_id':'101'},\n",
    "                  {'id': '101C', 'name':'Ikoyi', 'state_id':'101'},\n",
    "                  {'id': '101D', 'name':'VI', 'state_id':'101'},\n",
    "                  {'id': '101E', 'name':'Lekki', 'state_id':'101'},\n",
    "                  {'id': '102A', 'name':'Kubwa', 'state_id':'102'},\n",
    "                  {'id': '102B', 'name':'Asokoro', 'state_id':'102'},\n",
    "                  {'id': '102C', 'name':'Maitama', 'state_id':'102'},\n",
    "                  {'id': '103A', 'name':'Rumuokoro', 'state_id':'103'},\n",
    "                  {'id': '103B', 'name':'Choba', 'state_id':'103'}]\n",
    "    return pd.DataFrame(city_list)\n",
    "    \n",
    "city_data = create_city()\n",
    "city_data.to_csv('./csv_files/city.csv', index=False)"
   ]
  },
  {
   "cell_type": "code",
   "execution_count": null,
   "id": "f4cf56cf-89b3-485c-ade5-2e65e7c9d22f",
   "metadata": {},
   "outputs": [],
   "source": []
  },
  {
   "cell_type": "code",
   "execution_count": 6,
   "id": "952a742c-13e1-40ad-aa44-d11a5ed5eb92",
   "metadata": {},
   "outputs": [],
   "source": [
    "# create a function for state\n",
    "def create_state():\n",
    "# create state list\n",
    "    state_list = [{'id': '101', 'name':'Lagos'},\n",
    "                  {'id': '102', 'name':'Abuja'},\n",
    "                  {'id': '103', 'name':'Rivers'}]\n",
    "    return pd.DataFrame(state_list)\n",
    "    \n",
    "state_data = create_state()\n",
    "state_data.to_csv('./csv_files/state.csv', index=False)"
   ]
  },
  {
   "cell_type": "code",
   "execution_count": null,
   "id": "7d190731-be38-4c2e-a4cb-6f3792a97505",
   "metadata": {},
   "outputs": [],
   "source": []
  },
  {
   "cell_type": "code",
   "execution_count": 7,
   "id": "f5b5f897-13ae-4226-8714-9469a1a964b0",
   "metadata": {},
   "outputs": [],
   "source": [
    "def create_branch():\n",
    "# create empty list to add branch dictionary\n",
    "    #branch_list = []\n",
    "    branch = [{'id': '1001', 'name':'Yellow', 'city_id':'101A'}, \n",
    "              {'id': '1002', 'name':'Blue', 'city_id':'101B'},\n",
    "              {'id': '1003', 'name':'Orange', 'city_id':'101C'},\n",
    "              {'id': '1004', 'name':'White', 'city_id':'102A'},\n",
    "              {'id': '1005', 'name':'Red', 'city_id':'102B'},\n",
    "              {'id': '1006', 'name':'Brown', 'city_id':'103A'}]\n",
    "# create branch dictionary with additional items\n",
    "    for branch_item in branch:\n",
    "        branch_item['address'] = fake.street_address()\n",
    "        branch_item['email'] = fake.email()\n",
    "        branch_item['phone'] = fake.phone_number()\n",
    "        \n",
    "    return pd.DataFrame(branch)\n",
    "    \n",
    "branch_data = create_branch()\n",
    "branch_data.to_csv('./csv_files/branch.csv', index=False)"
   ]
  },
  {
   "cell_type": "code",
   "execution_count": null,
   "id": "56423bea-1a0c-4782-a10d-2b70e3737216",
   "metadata": {},
   "outputs": [],
   "source": []
  },
  {
   "cell_type": "code",
   "execution_count": 8,
   "id": "5d85ea9e-8737-4bca-8145-1b83f7e52b88",
   "metadata": {},
   "outputs": [],
   "source": [
    "# create a function for dining\n",
    "def create_dining():\n",
    "# create dining list\n",
    "    dining_list = [{'id': '1', 'name':'dine-in'},\n",
    "                  {'id': '2', 'name':'take-out'},\n",
    "                  {'id': '3', 'name':'online'}]\n",
    "    return pd.DataFrame(dining_list)\n",
    "    \n",
    "dining_data = create_dining()\n",
    "dining_data.to_csv('./csv_files/dining.csv', index=False)"
   ]
  },
  {
   "cell_type": "code",
   "execution_count": null,
   "id": "baa645a2-0ba9-461e-9386-9dbf56411886",
   "metadata": {},
   "outputs": [],
   "source": []
  },
  {
   "cell_type": "code",
   "execution_count": 9,
   "id": "16ffe320-7b2e-4083-a2d7-cb6b9bb57074",
   "metadata": {},
   "outputs": [],
   "source": [
    "# create a function for orderStatus\n",
    "def create_orderStatus():\n",
    "# create orderStatus list\n",
    "    orderStatus_list = [{'id': '1', 'name':'in_progress'},\n",
    "                  {'id': '2', 'name':'completed'},\n",
    "                  {'id': '3', 'name':'cancelled'}]\n",
    "    return pd.DataFrame(orderStatus_list)\n",
    "    \n",
    "orderStatus_data = create_orderStatus()\n",
    "orderStatus_data.to_csv('./csv_files/orderStatus.csv', index=False)"
   ]
  },
  {
   "cell_type": "code",
   "execution_count": null,
   "id": "bb08df4d-17ea-406c-9aca-964955d02d31",
   "metadata": {},
   "outputs": [],
   "source": []
  },
  {
   "cell_type": "code",
   "execution_count": 10,
   "id": "83a0132b-cc5c-4411-82f1-ebfe309ce2da",
   "metadata": {},
   "outputs": [],
   "source": [
    "# create a function for paymentType\n",
    "def create_paymentType():\n",
    "# create paymentType list\n",
    "    paymentType_list = [{'id': '1', 'name':'cash'},\n",
    "                  {'id': '2', 'name':'POS'},\n",
    "                  {'id': '3', 'name':'online'}]\n",
    "    return pd.DataFrame(paymentType_list)\n",
    "    \n",
    "paymentType_data = create_paymentType()\n",
    "paymentType_data.to_csv('./csv_files/paymentType.csv', index=False)"
   ]
  },
  {
   "cell_type": "code",
   "execution_count": null,
   "id": "2a8fae38-7788-4e9a-aa0e-2cc91b983c20",
   "metadata": {},
   "outputs": [],
   "source": []
  },
  {
   "cell_type": "code",
   "execution_count": 11,
   "id": "b5df6512-0d72-486a-b391-5998899a6d6c",
   "metadata": {},
   "outputs": [],
   "source": [
    "# create a function for item\n",
    "def create_item():\n",
    "# create item list\n",
    "    item_list = [{'id': '1', 'name':'white_rice', 'price':'200'},\n",
    "                {'id': '2', 'name':'jollof_rice', 'price':'300'},\n",
    "                {'id': '3', 'name':'fried_rice', 'price':'500'},\n",
    "                {'id': '4', 'name':'fufu', 'price':'200'},\n",
    "                {'id': '5', 'name':'semo', 'price':'300'},\n",
    "                {'id': '6', 'name':'eba', 'price':'200'},\n",
    "                {'id': '7', 'name':'beef', 'price':'500'},\n",
    "                {'id': '8', 'name':'chicken', 'price':'1500'},\n",
    "                {'id': '9', 'name':'turkey', 'price':'2500'},\n",
    "                {'id': '10', 'name':'egusi_soup', 'price':'200'},\n",
    "                {'id': '11', 'name':'veg_soup', 'price':'300'},]\n",
    "    return pd.DataFrame(item_list)\n",
    "    \n",
    "item_data = create_item()\n",
    "item_data.to_csv('./csv_files/item.csv', index=False)"
   ]
  },
  {
   "cell_type": "code",
   "execution_count": null,
   "id": "3dc20db1-bcf6-4bfd-b99a-6744b25e814d",
   "metadata": {},
   "outputs": [],
   "source": []
  },
  {
   "cell_type": "code",
   "execution_count": 12,
   "id": "912cf7d3-5e7b-4c36-892b-4b5f05e6432a",
   "metadata": {},
   "outputs": [],
   "source": [
    "# create a function for inventory\n",
    "def create_inventory(num_of_inventory):\n",
    "# create empty list to add inventory dictionary\n",
    "    inventory_list = []\n",
    "# create inventory dictionary\n",
    "    for i in range(1, num_of_inventory):\n",
    "        inventory = {}\n",
    "        inventory['id'] = i\n",
    "        inventory['order_id'] = random.randint(1,1000)\n",
    "        inventory['item_id'] = random.randint(1,11)\n",
    "        inventory['quantity'] = random.randint(1,3)\n",
    "        inventory_list.append(inventory)\n",
    "    return pd.DataFrame(inventory_list)\n",
    "\n",
    "inventory_data = create_inventory(5000)\n",
    "inventory_data.to_csv('./csv_files/inventory.csv', index=False)"
   ]
  },
  {
   "cell_type": "code",
   "execution_count": null,
   "id": "809c0556-8250-41eb-a4d9-059fea67d21e",
   "metadata": {},
   "outputs": [],
   "source": []
  },
  {
   "cell_type": "code",
   "execution_count": 13,
   "id": "201b7e6a-9573-4a18-8ebc-7b0a5433e0a1",
   "metadata": {},
   "outputs": [],
   "source": [
    "# Define the date range\n",
    "start_date = '2024-09-01'\n",
    "end_date = '2024-12-31'\n",
    "date_range = pd.date_range(start=start_date, end=end_date)\n",
    "\n",
    "# Create the date dimension table\n",
    "dim_date = {\n",
    "    'date': date_range,\n",
    "    'day': date_range.day,\n",
    "    'month': date_range.month,\n",
    "    'year': date_range.year,\n",
    "    'quarter': date_range.quarter,\n",
    "    'day_of_week': date_range.day_name(),\n",
    "    'week_of_year': date_range.isocalendar().week,\n",
    "    'month_name': date_range.month_name()\n",
    "}\n",
    "\n",
    "# Convert to DataFrame and then csv file\n",
    "dim_date_data = pd.DataFrame(dim_date)\n",
    "dim_date_data.to_csv('./csv_files/dim_date.csv', index=False)"
   ]
  },
  {
   "cell_type": "code",
   "execution_count": 14,
   "id": "d3684856-1745-40c3-8797-b254f9d2bd8a",
   "metadata": {},
   "outputs": [],
   "source": [
    "#order"
   ]
  },
  {
   "cell_type": "code",
   "execution_count": 15,
   "id": "f3e989a2-e99b-4592-9e01-2006ce7fa6c9",
   "metadata": {},
   "outputs": [],
   "source": [
    "# create a function for order\n",
    "def create_order(num_of_order):\n",
    "# create empty list to add order dictionary\n",
    "    order_list = []\n",
    "# Define the created_at date range\n",
    "    start_date = datetime(2024, 9, 8)\n",
    "    end_date = datetime.now()\n",
    "# create order dictionary\n",
    "    for i in range(1, num_of_order+1):\n",
    "        order = {}\n",
    "        order['id'] = i\n",
    "        order['customer_id'] = random.randint(100,150)\n",
    "        #order['amount'] = random.randint(5, 50) * 100  # Generates a price between N500 and N5000\n",
    "        order['payment_id'] = random.randint(1,3)\n",
    "        order['dining_id'] = random.randint(1,3)\n",
    "        order['staff_id'] = 'FU' + str(random.randint(101, 131))\n",
    "        order['created_at'] = fake.date_time_between(start_date=start_date, end_date=end_date)\n",
    "        order_list.append(order)\n",
    "    return pd.DataFrame(order_list)\n",
    "    \n",
    "order_data = create_order(1000)\n",
    "order_data.to_csv('./csv_files/orders.csv', index=False)"
   ]
  },
  {
   "cell_type": "code",
   "execution_count": null,
   "id": "43ac98ca-7ffb-465b-b7ce-d7bce6fe978d",
   "metadata": {},
   "outputs": [],
   "source": []
  },
  {
   "cell_type": "code",
   "execution_count": null,
   "id": "c96e7b30-e699-45ca-a20d-7439eca557ac",
   "metadata": {},
   "outputs": [],
   "source": []
  },
  {
   "cell_type": "code",
   "execution_count": null,
   "id": "0c14a548-2eb1-4508-9c86-51a05a617349",
   "metadata": {},
   "outputs": [],
   "source": []
  }
 ],
 "metadata": {
  "kernelspec": {
   "display_name": "Python 3 (ipykernel)",
   "language": "python",
   "name": "python3"
  },
  "language_info": {
   "codemirror_mode": {
    "name": "ipython",
    "version": 3
   },
   "file_extension": ".py",
   "mimetype": "text/x-python",
   "name": "python",
   "nbconvert_exporter": "python",
   "pygments_lexer": "ipython3",
   "version": "3.12.4"
  }
 },
 "nbformat": 4,
 "nbformat_minor": 5
}
